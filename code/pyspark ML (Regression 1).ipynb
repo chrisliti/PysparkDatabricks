{
 "cells": [
  {
   "cell_type": "markdown",
   "id": "ed062928",
   "metadata": {},
   "source": [
    "## Import Libraries"
   ]
  },
  {
   "cell_type": "code",
   "execution_count": 16,
   "id": "65357698",
   "metadata": {},
   "outputs": [],
   "source": [
    "from pyspark.sql import SparkSession\n",
    "from pyspark.ml.feature import VectorAssembler\n",
    "from pyspark.ml.regression import LinearRegression"
   ]
  },
  {
   "cell_type": "markdown",
   "id": "d396ef1d",
   "metadata": {},
   "source": [
    "## Spark Session"
   ]
  },
  {
   "cell_type": "code",
   "execution_count": 2,
   "id": "9a7043b0",
   "metadata": {},
   "outputs": [],
   "source": [
    "spark = SparkSession.builder.appName('LR').getOrCreate()"
   ]
  },
  {
   "cell_type": "markdown",
   "id": "d9e01c74",
   "metadata": {},
   "source": [
    "## Import Data"
   ]
  },
  {
   "cell_type": "code",
   "execution_count": 3,
   "id": "7a12a2b0",
   "metadata": {},
   "outputs": [
    {
     "name": "stdout",
     "output_type": "stream",
     "text": [
      "+------------+---+----------+--------+-------+\n",
      "|        name|age|experience|  salary|company|\n",
      "+------------+---+----------+--------+-------+\n",
      "|    deadpool| 65|         2|10000000| marvel|\n",
      "|   spiderman| 20|         7| 5000000| marvel|\n",
      "|     captain|120|         3|20000000| marvel|\n",
      "|      batman| 50|         2|10000000|     dc|\n",
      "| black widow| 40|         6|15000000| marvel|\n",
      "|    superman|150|        10| 5000000|     dc|\n",
      "|womder woman| 35|         4|15000000|     dc|\n",
      "|       wanda| 30|         3|10000000| marvel|\n",
      "+------------+---+----------+--------+-------+\n",
      "\n"
     ]
    }
   ],
   "source": [
    "training = spark.read.csv('D:/pyspark/heroes3.csv',header=True,inferSchema=True)\n",
    "training.show()"
   ]
  },
  {
   "cell_type": "code",
   "execution_count": 4,
   "id": "a4e097a2",
   "metadata": {},
   "outputs": [
    {
     "name": "stdout",
     "output_type": "stream",
     "text": [
      "root\n",
      " |-- name: string (nullable = true)\n",
      " |-- age: integer (nullable = true)\n",
      " |-- experience: integer (nullable = true)\n",
      " |-- salary: integer (nullable = true)\n",
      " |-- company: string (nullable = true)\n",
      "\n"
     ]
    }
   ],
   "source": [
    "training.printSchema()"
   ]
  },
  {
   "cell_type": "code",
   "execution_count": 5,
   "id": "e06d3a53",
   "metadata": {},
   "outputs": [
    {
     "data": {
      "text/plain": [
       "['name', 'age', 'experience', 'salary', 'company']"
      ]
     },
     "execution_count": 5,
     "metadata": {},
     "output_type": "execute_result"
    }
   ],
   "source": [
    "training.columns"
   ]
  },
  {
   "cell_type": "markdown",
   "id": "96bfa1e4",
   "metadata": {},
   "source": [
    "## Data Processing"
   ]
  },
  {
   "cell_type": "code",
   "execution_count": 9,
   "id": "f4b36231",
   "metadata": {},
   "outputs": [],
   "source": [
    "## input cols\n",
    "featureassembler = VectorAssembler(inputCols=['age','experience'],outputCol='independent features')"
   ]
  },
  {
   "cell_type": "code",
   "execution_count": 12,
   "id": "565d7a2e",
   "metadata": {},
   "outputs": [],
   "source": [
    "## transform input cols\n",
    "output = featureassembler.transform(training)"
   ]
  },
  {
   "cell_type": "code",
   "execution_count": 13,
   "id": "904ca2e7",
   "metadata": {},
   "outputs": [
    {
     "name": "stdout",
     "output_type": "stream",
     "text": [
      "+------------+---+----------+--------+-------+--------------------+\n",
      "|        name|age|experience|  salary|company|independent features|\n",
      "+------------+---+----------+--------+-------+--------------------+\n",
      "|    deadpool| 65|         2|10000000| marvel|          [65.0,2.0]|\n",
      "|   spiderman| 20|         7| 5000000| marvel|          [20.0,7.0]|\n",
      "|     captain|120|         3|20000000| marvel|         [120.0,3.0]|\n",
      "|      batman| 50|         2|10000000|     dc|          [50.0,2.0]|\n",
      "| black widow| 40|         6|15000000| marvel|          [40.0,6.0]|\n",
      "|    superman|150|        10| 5000000|     dc|        [150.0,10.0]|\n",
      "|womder woman| 35|         4|15000000|     dc|          [35.0,4.0]|\n",
      "|       wanda| 30|         3|10000000| marvel|          [30.0,3.0]|\n",
      "+------------+---+----------+--------+-------+--------------------+\n",
      "\n"
     ]
    }
   ],
   "source": [
    "output.show()"
   ]
  },
  {
   "cell_type": "code",
   "execution_count": 14,
   "id": "cc66132d",
   "metadata": {},
   "outputs": [],
   "source": [
    "finalized_data = output.select(['independent features','salary'])"
   ]
  },
  {
   "cell_type": "code",
   "execution_count": 15,
   "id": "5fc14678",
   "metadata": {},
   "outputs": [
    {
     "name": "stdout",
     "output_type": "stream",
     "text": [
      "+--------------------+--------+\n",
      "|independent features|  salary|\n",
      "+--------------------+--------+\n",
      "|          [65.0,2.0]|10000000|\n",
      "|          [20.0,7.0]| 5000000|\n",
      "|         [120.0,3.0]|20000000|\n",
      "|          [50.0,2.0]|10000000|\n",
      "|          [40.0,6.0]|15000000|\n",
      "|        [150.0,10.0]| 5000000|\n",
      "|          [35.0,4.0]|15000000|\n",
      "|          [30.0,3.0]|10000000|\n",
      "+--------------------+--------+\n",
      "\n"
     ]
    }
   ],
   "source": [
    "finalized_data.show()"
   ]
  },
  {
   "cell_type": "code",
   "execution_count": 25,
   "id": "97dadb7b",
   "metadata": {},
   "outputs": [],
   "source": [
    "## train test split\n",
    "train_data,test_data = finalized_data.randomSplit([0.75,0.25])"
   ]
  },
  {
   "cell_type": "markdown",
   "id": "cea6abb3",
   "metadata": {},
   "source": [
    "## Model Training"
   ]
  },
  {
   "cell_type": "code",
   "execution_count": 26,
   "id": "c25438aa",
   "metadata": {},
   "outputs": [],
   "source": [
    "## train model\n",
    "regressor = LinearRegression(featuresCol='independent features',labelCol='salary')\n",
    "regressor = regressor.fit(train_data)"
   ]
  },
  {
   "cell_type": "code",
   "execution_count": 27,
   "id": "d6c0928f",
   "metadata": {},
   "outputs": [
    {
     "data": {
      "text/plain": [
       "DenseVector([37989.7457, -1418884.6309])"
      ]
     },
     "execution_count": 27,
     "metadata": {},
     "output_type": "execute_result"
    }
   ],
   "source": [
    "## coefficients\n",
    "regressor.coefficients"
   ]
  },
  {
   "cell_type": "code",
   "execution_count": 28,
   "id": "fc3d57f6",
   "metadata": {},
   "outputs": [
    {
     "data": {
      "text/plain": [
       "16107932.174917322"
      ]
     },
     "execution_count": 28,
     "metadata": {},
     "output_type": "execute_result"
    }
   ],
   "source": [
    "## intercept\n",
    "regressor.intercept"
   ]
  },
  {
   "cell_type": "markdown",
   "id": "cf98d52e",
   "metadata": {},
   "source": [
    "## Model Prection"
   ]
  },
  {
   "cell_type": "code",
   "execution_count": 30,
   "id": "1d386902",
   "metadata": {},
   "outputs": [],
   "source": [
    "pred_results = regressor.evaluate(test_data)"
   ]
  },
  {
   "cell_type": "code",
   "execution_count": 32,
   "id": "971fdd8e",
   "metadata": {},
   "outputs": [
    {
     "name": "stdout",
     "output_type": "stream",
     "text": [
      "+--------------------+--------+--------------------+\n",
      "|independent features|  salary|          prediction|\n",
      "+--------------------+--------+--------------------+\n",
      "|          [65.0,2.0]|10000000|1.5739496386511981E7|\n",
      "+--------------------+--------+--------------------+\n",
      "\n"
     ]
    }
   ],
   "source": [
    "pred_results.predictions.show()"
   ]
  },
  {
   "cell_type": "markdown",
   "id": "2265d908",
   "metadata": {},
   "source": [
    "## Model Evaluation"
   ]
  },
  {
   "cell_type": "code",
   "execution_count": 33,
   "id": "66e07448",
   "metadata": {},
   "outputs": [
    {
     "data": {
      "text/plain": [
       "32941818770784.094"
      ]
     },
     "execution_count": 33,
     "metadata": {},
     "output_type": "execute_result"
    }
   ],
   "source": [
    "## MSE\n",
    "pred_results.meanSquaredError"
   ]
  },
  {
   "cell_type": "code",
   "execution_count": 35,
   "id": "86143409",
   "metadata": {},
   "outputs": [
    {
     "data": {
      "text/plain": [
       "5739496.3865119815"
      ]
     },
     "execution_count": 35,
     "metadata": {},
     "output_type": "execute_result"
    }
   ],
   "source": [
    "## RMSE\n",
    "pred_results.rootMeanSquaredError"
   ]
  },
  {
   "cell_type": "code",
   "execution_count": null,
   "id": "74a5509b",
   "metadata": {},
   "outputs": [],
   "source": []
  }
 ],
 "metadata": {
  "kernelspec": {
   "display_name": "pyspark",
   "language": "python",
   "name": "pyspark"
  },
  "language_info": {
   "codemirror_mode": {
    "name": "ipython",
    "version": 3
   },
   "file_extension": ".py",
   "mimetype": "text/x-python",
   "name": "python",
   "nbconvert_exporter": "python",
   "pygments_lexer": "ipython3",
   "version": "3.9.5"
  }
 },
 "nbformat": 4,
 "nbformat_minor": 5
}
