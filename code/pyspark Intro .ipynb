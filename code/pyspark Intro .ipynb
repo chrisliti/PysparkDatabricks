{
 "cells": [
  {
   "cell_type": "markdown",
   "id": "d65715e2",
   "metadata": {},
   "source": [
    "## Spark session"
   ]
  },
  {
   "cell_type": "code",
   "execution_count": 1,
   "id": "bbf793ea",
   "metadata": {},
   "outputs": [],
   "source": [
    "## Initiate spark session\n",
    "from pyspark.sql import SparkSession\n",
    "import numpy"
   ]
  },
  {
   "cell_type": "code",
   "execution_count": 2,
   "id": "52cd1e32",
   "metadata": {},
   "outputs": [],
   "source": [
    "spark = SparkSession.builder.appName('practise').getOrCreate()"
   ]
  },
  {
   "cell_type": "code",
   "execution_count": 3,
   "id": "1303ce52",
   "metadata": {},
   "outputs": [
    {
     "data": {
      "text/html": [
       "\n",
       "            <div>\n",
       "                <p><b>SparkSession - in-memory</b></p>\n",
       "                \n",
       "        <div>\n",
       "            <p><b>SparkContext</b></p>\n",
       "\n",
       "            <p><a href=\"http://User-PC:4040\">Spark UI</a></p>\n",
       "\n",
       "            <dl>\n",
       "              <dt>Version</dt>\n",
       "                <dd><code>v3.1.2</code></dd>\n",
       "              <dt>Master</dt>\n",
       "                <dd><code>local[*]</code></dd>\n",
       "              <dt>AppName</dt>\n",
       "                <dd><code>practise</code></dd>\n",
       "            </dl>\n",
       "        </div>\n",
       "        \n",
       "            </div>\n",
       "        "
      ],
      "text/plain": [
       "<pyspark.sql.session.SparkSession at 0x158ffee5820>"
      ]
     },
     "execution_count": 3,
     "metadata": {},
     "output_type": "execute_result"
    }
   ],
   "source": [
    "spark"
   ]
  },
  {
   "cell_type": "code",
   "execution_count": 4,
   "id": "51588bfa",
   "metadata": {},
   "outputs": [],
   "source": [
    "#df_pyspark = spark.read.csv('D:/pyspark/heroes.csv')\n",
    "df_pyspark = spark.read.option('header','true').csv('D:/pyspark/heroes.csv',inferSchema=True)"
   ]
  },
  {
   "cell_type": "code",
   "execution_count": 5,
   "id": "f93babb1",
   "metadata": {},
   "outputs": [
    {
     "name": "stdout",
     "output_type": "stream",
     "text": [
      "+---------+---+----------+\n",
      "|     name|age|experience|\n",
      "+---------+---+----------+\n",
      "| deadpool| 65|         2|\n",
      "|spiderman| 20|         7|\n",
      "|  captain|120|         3|\n",
      "|     hulk| 50|         2|\n",
      "+---------+---+----------+\n",
      "\n"
     ]
    }
   ],
   "source": [
    "df_pyspark.show()"
   ]
  },
  {
   "cell_type": "code",
   "execution_count": 6,
   "id": "dca56aca",
   "metadata": {},
   "outputs": [
    {
     "data": {
      "text/plain": [
       "pyspark.sql.dataframe.DataFrame"
      ]
     },
     "execution_count": 6,
     "metadata": {},
     "output_type": "execute_result"
    }
   ],
   "source": [
    "type(df_pyspark)"
   ]
  },
  {
   "cell_type": "code",
   "execution_count": 7,
   "id": "07c4ff7c",
   "metadata": {},
   "outputs": [
    {
     "data": {
      "text/plain": [
       "[Row(name='deadpool', age=65, experience=2),\n",
       " Row(name='spiderman', age=20, experience=7)]"
      ]
     },
     "execution_count": 7,
     "metadata": {},
     "output_type": "execute_result"
    }
   ],
   "source": [
    "## Glimpse head\n",
    "df_pyspark.head(2)"
   ]
  },
  {
   "cell_type": "code",
   "execution_count": 8,
   "id": "617a4532",
   "metadata": {},
   "outputs": [
    {
     "name": "stdout",
     "output_type": "stream",
     "text": [
      "root\n",
      " |-- name: string (nullable = true)\n",
      " |-- age: integer (nullable = true)\n",
      " |-- experience: integer (nullable = true)\n",
      "\n"
     ]
    }
   ],
   "source": [
    "## Dataset Information\n",
    "df_pyspark.printSchema()"
   ]
  },
  {
   "cell_type": "code",
   "execution_count": 9,
   "id": "aeae44c6",
   "metadata": {},
   "outputs": [
    {
     "name": "stdout",
     "output_type": "stream",
     "text": [
      "+---------+---+----------+\n",
      "|     name|age|experience|\n",
      "+---------+---+----------+\n",
      "| deadpool| 65|         2|\n",
      "|spiderman| 20|         7|\n",
      "|  captain|120|         3|\n",
      "|     hulk| 50|         2|\n",
      "+---------+---+----------+\n",
      "\n"
     ]
    }
   ],
   "source": [
    "## Simpler reading style\n",
    "df_pyspark = spark.read.csv('D:/pyspark/heroes.csv',header=True,inferSchema=True)\n",
    "df_pyspark.show()"
   ]
  },
  {
   "cell_type": "code",
   "execution_count": 10,
   "id": "0bfed292",
   "metadata": {},
   "outputs": [
    {
     "data": {
      "text/plain": [
       "['name', 'age', 'experience']"
      ]
     },
     "execution_count": 10,
     "metadata": {},
     "output_type": "execute_result"
    }
   ],
   "source": [
    "## Get columns\n",
    "df_pyspark.columns"
   ]
  },
  {
   "cell_type": "markdown",
   "id": "ef188141",
   "metadata": {},
   "source": [
    "### Selecting Columns"
   ]
  },
  {
   "cell_type": "code",
   "execution_count": 11,
   "id": "3770e2d5",
   "metadata": {},
   "outputs": [
    {
     "name": "stdout",
     "output_type": "stream",
     "text": [
      "+---------+---+\n",
      "|     name|age|\n",
      "+---------+---+\n",
      "| deadpool| 65|\n",
      "|spiderman| 20|\n",
      "|  captain|120|\n",
      "|     hulk| 50|\n",
      "+---------+---+\n",
      "\n"
     ]
    }
   ],
   "source": [
    "## Selecting columns\n",
    "## [] does not work on spark\n",
    "df_pyspark.select(['name','age']).show()"
   ]
  },
  {
   "cell_type": "code",
   "execution_count": 12,
   "id": "6c5455d7",
   "metadata": {},
   "outputs": [
    {
     "data": {
      "text/plain": [
       "[('name', 'string'), ('age', 'int'), ('experience', 'int')]"
      ]
     },
     "execution_count": 12,
     "metadata": {},
     "output_type": "execute_result"
    }
   ],
   "source": [
    "## check data types\n",
    "df_pyspark.dtypes"
   ]
  },
  {
   "cell_type": "markdown",
   "id": "4fdd6f9e",
   "metadata": {},
   "source": [
    "### Describe"
   ]
  },
  {
   "cell_type": "code",
   "execution_count": 13,
   "id": "10509e11",
   "metadata": {},
   "outputs": [
    {
     "name": "stdout",
     "output_type": "stream",
     "text": [
      "+-------+---------+------------------+------------------+\n",
      "|summary|     name|               age|        experience|\n",
      "+-------+---------+------------------+------------------+\n",
      "|  count|        4|                 4|                 4|\n",
      "|   mean|     null|             63.75|               3.5|\n",
      "| stddev|     null|41.907636535600524|2.3804761428476167|\n",
      "|    min|  captain|                20|                 2|\n",
      "|    max|spiderman|               120|                 7|\n",
      "+-------+---------+------------------+------------------+\n",
      "\n"
     ]
    }
   ],
   "source": [
    "df_pyspark.describe().show()"
   ]
  },
  {
   "cell_type": "markdown",
   "id": "23c6e580",
   "metadata": {},
   "source": [
    "### Adding Columns"
   ]
  },
  {
   "cell_type": "code",
   "execution_count": 14,
   "id": "97a89dc8",
   "metadata": {},
   "outputs": [],
   "source": [
    "df_pyspark = df_pyspark.withColumn('experience after 2 years',df_pyspark['experience']+2)"
   ]
  },
  {
   "cell_type": "code",
   "execution_count": 15,
   "id": "a938eb7a",
   "metadata": {},
   "outputs": [
    {
     "name": "stdout",
     "output_type": "stream",
     "text": [
      "+---------+---+----------+------------------------+\n",
      "|     name|age|experience|experience after 2 years|\n",
      "+---------+---+----------+------------------------+\n",
      "| deadpool| 65|         2|                       4|\n",
      "|spiderman| 20|         7|                       9|\n",
      "|  captain|120|         3|                       5|\n",
      "|     hulk| 50|         2|                       4|\n",
      "+---------+---+----------+------------------------+\n",
      "\n"
     ]
    }
   ],
   "source": [
    "df_pyspark.show()"
   ]
  },
  {
   "cell_type": "markdown",
   "id": "933404cb",
   "metadata": {},
   "source": [
    "### Drop Columns"
   ]
  },
  {
   "cell_type": "code",
   "execution_count": 16,
   "id": "b22957c1",
   "metadata": {},
   "outputs": [
    {
     "name": "stdout",
     "output_type": "stream",
     "text": [
      "+---------+---+----------+\n",
      "|     name|age|experience|\n",
      "+---------+---+----------+\n",
      "| deadpool| 65|         2|\n",
      "|spiderman| 20|         7|\n",
      "|  captain|120|         3|\n",
      "|     hulk| 50|         2|\n",
      "+---------+---+----------+\n",
      "\n"
     ]
    }
   ],
   "source": [
    "df_pyspark = df_pyspark.drop('experience after 2 years')\n",
    "df_pyspark.show()"
   ]
  },
  {
   "cell_type": "markdown",
   "id": "d3ea2e39",
   "metadata": {},
   "source": [
    "### Renaming Column"
   ]
  },
  {
   "cell_type": "code",
   "execution_count": 17,
   "id": "0f3a481a",
   "metadata": {},
   "outputs": [
    {
     "name": "stdout",
     "output_type": "stream",
     "text": [
      "+---------+---+----------+\n",
      "| new_name|age|experience|\n",
      "+---------+---+----------+\n",
      "| deadpool| 65|         2|\n",
      "|spiderman| 20|         7|\n",
      "|  captain|120|         3|\n",
      "|     hulk| 50|         2|\n",
      "+---------+---+----------+\n",
      "\n"
     ]
    }
   ],
   "source": [
    "df_pyspark = df_pyspark.withColumnRenamed('name','new_name')\n",
    "df_pyspark.show()"
   ]
  },
  {
   "cell_type": "markdown",
   "id": "b27c5c88",
   "metadata": {},
   "source": [
    "### Missing Values"
   ]
  },
  {
   "cell_type": "code",
   "execution_count": 18,
   "id": "def07c22",
   "metadata": {},
   "outputs": [
    {
     "name": "stdout",
     "output_type": "stream",
     "text": [
      "+------------+----+----------+--------+-------+\n",
      "|        name| age|experience|  salary|company|\n",
      "+------------+----+----------+--------+-------+\n",
      "|    deadpool|  65|         2|10000000| marvel|\n",
      "|   spiderman|  20|         7| 5000000| marvel|\n",
      "|     captain| 120|         3|20000000| marvel|\n",
      "|      batman|  50|         2|10000000|     dc|\n",
      "| black widow|  40|         6|    null| marvel|\n",
      "|    superman|null|      null| 5000000|     dc|\n",
      "|womder woman|  35|      null|    null|     dc|\n",
      "|       wanda|null|         3|10000000| marvel|\n",
      "+------------+----+----------+--------+-------+\n",
      "\n"
     ]
    }
   ],
   "source": [
    "df_pyspark2 = spark.read.csv('D:/pyspark/heroes2.csv',header=True,inferSchema=True)\n",
    "df_pyspark2.show()"
   ]
  },
  {
   "cell_type": "code",
   "execution_count": 19,
   "id": "d34124ee",
   "metadata": {},
   "outputs": [
    {
     "name": "stdout",
     "output_type": "stream",
     "text": [
      "+---------+---+----------+--------+-------+\n",
      "|     name|age|experience|  salary|company|\n",
      "+---------+---+----------+--------+-------+\n",
      "| deadpool| 65|         2|10000000| marvel|\n",
      "|spiderman| 20|         7| 5000000| marvel|\n",
      "|  captain|120|         3|20000000| marvel|\n",
      "|   batman| 50|         2|10000000|     dc|\n",
      "+---------+---+----------+--------+-------+\n",
      "\n"
     ]
    }
   ],
   "source": [
    "## any row with missing values\n",
    "df_pyspark2.na.drop().show()"
   ]
  },
  {
   "cell_type": "code",
   "execution_count": 20,
   "id": "e4bc6c15",
   "metadata": {},
   "outputs": [
    {
     "name": "stdout",
     "output_type": "stream",
     "text": [
      "+---------+---+----------+--------+-------+\n",
      "|     name|age|experience|  salary|company|\n",
      "+---------+---+----------+--------+-------+\n",
      "| deadpool| 65|         2|10000000| marvel|\n",
      "|spiderman| 20|         7| 5000000| marvel|\n",
      "|  captain|120|         3|20000000| marvel|\n",
      "|   batman| 50|         2|10000000|     dc|\n",
      "+---------+---+----------+--------+-------+\n",
      "\n"
     ]
    }
   ],
   "source": [
    "## any (if there is even one occurance)\n",
    "df_pyspark2.na.drop(how='any').show()"
   ]
  },
  {
   "cell_type": "code",
   "execution_count": 21,
   "id": "55fccc17",
   "metadata": {},
   "outputs": [
    {
     "name": "stdout",
     "output_type": "stream",
     "text": [
      "+------------+----+----------+--------+-------+\n",
      "|        name| age|experience|  salary|company|\n",
      "+------------+----+----------+--------+-------+\n",
      "|    deadpool|  65|         2|10000000| marvel|\n",
      "|   spiderman|  20|         7| 5000000| marvel|\n",
      "|     captain| 120|         3|20000000| marvel|\n",
      "|      batman|  50|         2|10000000|     dc|\n",
      "| black widow|  40|         6|    null| marvel|\n",
      "|    superman|null|      null| 5000000|     dc|\n",
      "|womder woman|  35|      null|    null|     dc|\n",
      "|       wanda|null|         3|10000000| marvel|\n",
      "+------------+----+----------+--------+-------+\n",
      "\n"
     ]
    }
   ],
   "source": [
    "## all(if all columns of a row have missing values)\n",
    "df_pyspark2.na.drop(how='all').show()"
   ]
  },
  {
   "cell_type": "code",
   "execution_count": 22,
   "id": "cac2d00d",
   "metadata": {},
   "outputs": [
    {
     "name": "stdout",
     "output_type": "stream",
     "text": [
      "+------------+----+----------+--------+-------+\n",
      "|        name| age|experience|  salary|company|\n",
      "+------------+----+----------+--------+-------+\n",
      "|    deadpool|  65|         2|10000000| marvel|\n",
      "|   spiderman|  20|         7| 5000000| marvel|\n",
      "|     captain| 120|         3|20000000| marvel|\n",
      "|      batman|  50|         2|10000000|     dc|\n",
      "| black widow|  40|         6|    null| marvel|\n",
      "|    superman|null|      null| 5000000|     dc|\n",
      "|womder woman|  35|      null|    null|     dc|\n",
      "|       wanda|null|         3|10000000| marvel|\n",
      "+------------+----+----------+--------+-------+\n",
      "\n"
     ]
    }
   ],
   "source": [
    "## threshold (at least n non missing values)\n",
    "df_pyspark2.na.drop(how='any',thresh=3).show()"
   ]
  },
  {
   "cell_type": "code",
   "execution_count": 23,
   "id": "747df7bf",
   "metadata": {},
   "outputs": [
    {
     "name": "stdout",
     "output_type": "stream",
     "text": [
      "+------------+---+----------+--------+-------+\n",
      "|        name|age|experience|  salary|company|\n",
      "+------------+---+----------+--------+-------+\n",
      "|    deadpool| 65|         2|10000000| marvel|\n",
      "|   spiderman| 20|         7| 5000000| marvel|\n",
      "|     captain|120|         3|20000000| marvel|\n",
      "|      batman| 50|         2|10000000|     dc|\n",
      "| black widow| 40|         6|    null| marvel|\n",
      "|womder woman| 35|      null|    null|     dc|\n",
      "+------------+---+----------+--------+-------+\n",
      "\n"
     ]
    }
   ],
   "source": [
    "## subset\n",
    "df_pyspark2.na.drop(how='any',subset=['age']).show()"
   ]
  },
  {
   "cell_type": "code",
   "execution_count": 24,
   "id": "3249e565",
   "metadata": {},
   "outputs": [
    {
     "name": "stdout",
     "output_type": "stream",
     "text": [
      "+------------+---+----------+--------+-------+\n",
      "|        name|age|experience|  salary|company|\n",
      "+------------+---+----------+--------+-------+\n",
      "|    deadpool| 65|         2|10000000| marvel|\n",
      "|   spiderman| 20|         7| 5000000| marvel|\n",
      "|     captain|120|         3|20000000| marvel|\n",
      "|      batman| 50|         2|10000000|     dc|\n",
      "| black widow| 40|         6|       0| marvel|\n",
      "|    superman|  0|         0| 5000000|     dc|\n",
      "|womder woman| 35|         0|       0|     dc|\n",
      "|       wanda|  0|         3|10000000| marvel|\n",
      "+------------+---+----------+--------+-------+\n",
      "\n"
     ]
    }
   ],
   "source": [
    "## fill missing\n",
    "df_pyspark2.na.fill(0).show()"
   ]
  },
  {
   "cell_type": "code",
   "execution_count": 25,
   "id": "d1ae06dd",
   "metadata": {},
   "outputs": [],
   "source": [
    "## Replace with mean\n",
    "\n",
    "from pyspark.ml.feature import Imputer\n",
    "\n",
    "imputer = Imputer(\n",
    "    inputCols=['age','experience','salary'],\n",
    "    outputCols=[\"{}_imputed\".format(c) for c in ['age','experience','salary']]\n",
    ").setStrategy('mean')\n"
   ]
  },
  {
   "cell_type": "code",
   "execution_count": 26,
   "id": "2e8fe0fb",
   "metadata": {},
   "outputs": [
    {
     "name": "stdout",
     "output_type": "stream",
     "text": [
      "+------------+----+----------+--------+-------+-----------+------------------+--------------+\n",
      "|        name| age|experience|  salary|company|age_imputed|experience_imputed|salary_imputed|\n",
      "+------------+----+----------+--------+-------+-----------+------------------+--------------+\n",
      "|    deadpool|  65|         2|10000000| marvel|         65|                 2|      10000000|\n",
      "|   spiderman|  20|         7| 5000000| marvel|         20|                 7|       5000000|\n",
      "|     captain| 120|         3|20000000| marvel|        120|                 3|      20000000|\n",
      "|      batman|  50|         2|10000000|     dc|         50|                 2|      10000000|\n",
      "| black widow|  40|         6|    null| marvel|         40|                 6|      10000000|\n",
      "|    superman|null|      null| 5000000|     dc|         55|                 3|       5000000|\n",
      "|womder woman|  35|      null|    null|     dc|         35|                 3|      10000000|\n",
      "|       wanda|null|         3|10000000| marvel|         55|                 3|      10000000|\n",
      "+------------+----+----------+--------+-------+-----------+------------------+--------------+\n",
      "\n"
     ]
    }
   ],
   "source": [
    "imputer.fit(df_pyspark2).transform(df_pyspark2).show()"
   ]
  },
  {
   "cell_type": "markdown",
   "id": "7fa4527e",
   "metadata": {},
   "source": [
    "### Filter"
   ]
  },
  {
   "cell_type": "code",
   "execution_count": 27,
   "id": "12b357c7",
   "metadata": {},
   "outputs": [
    {
     "name": "stdout",
     "output_type": "stream",
     "text": [
      "+---------+----+\n",
      "|     name| age|\n",
      "+---------+----+\n",
      "|spiderman|  20|\n",
      "| superman|null|\n",
      "+---------+----+\n",
      "\n"
     ]
    }
   ],
   "source": [
    "df_pyspark2.filter('salary < 10000000').select(['name','age']).show()"
   ]
  },
  {
   "cell_type": "code",
   "execution_count": 28,
   "id": "65a0e25f",
   "metadata": {},
   "outputs": [
    {
     "name": "stdout",
     "output_type": "stream",
     "text": [
      "+---------+---+----------+-------+-------+\n",
      "|     name|age|experience| salary|company|\n",
      "+---------+---+----------+-------+-------+\n",
      "|spiderman| 20|         7|5000000| marvel|\n",
      "+---------+---+----------+-------+-------+\n",
      "\n"
     ]
    }
   ],
   "source": [
    "df_pyspark2.filter((df_pyspark2['salary'] < 10000000) & (df_pyspark2['age'] < 50)).show()"
   ]
  },
  {
   "cell_type": "markdown",
   "id": "5b607a1e",
   "metadata": {},
   "source": [
    "### Group By"
   ]
  },
  {
   "cell_type": "code",
   "execution_count": 29,
   "id": "3c23408f",
   "metadata": {},
   "outputs": [
    {
     "name": "stdout",
     "output_type": "stream",
     "text": [
      "+------------+---+----------+--------+-------+\n",
      "|        name|age|experience|  salary|company|\n",
      "+------------+---+----------+--------+-------+\n",
      "|    deadpool| 65|         2|10000000| marvel|\n",
      "|   spiderman| 20|         7| 5000000| marvel|\n",
      "|     captain|120|         3|20000000| marvel|\n",
      "|      batman| 50|         2|10000000|     dc|\n",
      "| black widow| 40|         6|15000000| marvel|\n",
      "|    superman|150|        10| 5000000|     dc|\n",
      "|womder woman| 35|         4|15000000|     dc|\n",
      "|       wanda| 30|         3|10000000| marvel|\n",
      "+------------+---+----------+--------+-------+\n",
      "\n"
     ]
    }
   ],
   "source": [
    "df_pyspark3 = spark.read.csv('D:/pyspark/heroes3.csv',header=True,inferSchema=True)\n",
    "df_pyspark3.show()"
   ]
  },
  {
   "cell_type": "code",
   "execution_count": 30,
   "id": "b6a07ef4",
   "metadata": {},
   "outputs": [
    {
     "name": "stdout",
     "output_type": "stream",
     "text": [
      "root\n",
      " |-- name: string (nullable = true)\n",
      " |-- age: integer (nullable = true)\n",
      " |-- experience: integer (nullable = true)\n",
      " |-- salary: integer (nullable = true)\n",
      " |-- company: string (nullable = true)\n",
      "\n"
     ]
    }
   ],
   "source": [
    "df_pyspark3.printSchema()"
   ]
  },
  {
   "cell_type": "code",
   "execution_count": 35,
   "id": "2b29d8d7",
   "metadata": {
    "scrolled": false
   },
   "outputs": [
    {
     "name": "stdout",
     "output_type": "stream",
     "text": [
      "+-------+--------+---------------+-----------+\n",
      "|company|sum(age)|sum(experience)|sum(salary)|\n",
      "+-------+--------+---------------+-----------+\n",
      "|     dc|     235|             16|   30000000|\n",
      "| marvel|     275|             21|   60000000|\n",
      "+-------+--------+---------------+-----------+\n",
      "\n"
     ]
    }
   ],
   "source": [
    "df_pyspark3.groupBy('company').sum().show()"
   ]
  },
  {
   "cell_type": "code",
   "execution_count": 34,
   "id": "c1540fb0",
   "metadata": {},
   "outputs": [
    {
     "name": "stdout",
     "output_type": "stream",
     "text": [
      "+-------+-----+\n",
      "|company|count|\n",
      "+-------+-----+\n",
      "|     dc|    3|\n",
      "| marvel|    5|\n",
      "+-------+-----+\n",
      "\n"
     ]
    }
   ],
   "source": [
    "df_pyspark3.groupBy('company').count().show()"
   ]
  },
  {
   "cell_type": "code",
   "execution_count": 40,
   "id": "07c79d3e",
   "metadata": {},
   "outputs": [
    {
     "name": "stdout",
     "output_type": "stream",
     "text": [
      "+-----------+\n",
      "|sum(salary)|\n",
      "+-----------+\n",
      "|   90000000|\n",
      "+-----------+\n",
      "\n"
     ]
    }
   ],
   "source": [
    "df_pyspark3.agg({'salary':'sum'}).show()"
   ]
  },
  {
   "cell_type": "code",
   "execution_count": 41,
   "id": "82b96633",
   "metadata": {},
   "outputs": [
    {
     "name": "stdout",
     "output_type": "stream",
     "text": [
      "+-------+--------+---------------+-----------+\n",
      "|company|max(age)|max(experience)|max(salary)|\n",
      "+-------+--------+---------------+-----------+\n",
      "|     dc|     150|             10|   15000000|\n",
      "| marvel|     120|              7|   20000000|\n",
      "+-------+--------+---------------+-----------+\n",
      "\n"
     ]
    }
   ],
   "source": [
    "df_pyspark3.groupBy('company').max().show()"
   ]
  },
  {
   "cell_type": "code",
   "execution_count": null,
   "id": "48025c60",
   "metadata": {},
   "outputs": [],
   "source": []
  }
 ],
 "metadata": {
  "kernelspec": {
   "display_name": "pyspark",
   "language": "python",
   "name": "pyspark"
  },
  "language_info": {
   "codemirror_mode": {
    "name": "ipython",
    "version": 3
   },
   "file_extension": ".py",
   "mimetype": "text/x-python",
   "name": "python",
   "nbconvert_exporter": "python",
   "pygments_lexer": "ipython3",
   "version": "3.9.5"
  }
 },
 "nbformat": 4,
 "nbformat_minor": 5
}
